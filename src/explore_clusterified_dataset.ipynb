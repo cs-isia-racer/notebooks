{
 "cells": [
  {
   "cell_type": "code",
   "execution_count": 1,
   "metadata": {},
   "outputs": [],
   "source": [
    "import lib\n",
    "import numpy as np\n",
    "import matplotlib.pyplot as plt"
   ]
  },
  {
   "cell_type": "code",
   "execution_count": 2,
   "metadata": {},
   "outputs": [],
   "source": [
    "Xc_val, yc_val, Xc_test, yc_test = lib.load_dataset(\"../dataset_clusterified\")"
   ]
  },
  {
   "cell_type": "code",
   "execution_count": 28,
   "metadata": {},
   "outputs": [],
   "source": [
    "import cv2\n",
    "\n",
    "class ClusterifiedEstimator(lib.Estimator):\n",
    "    def __init__(self, weighted, reduction, modifier=None):\n",
    "        self.weighted = weighted\n",
    "        self.reduction = reduction\n",
    "        self.modifier = modifier\n",
    "\n",
    "    def predict_one(self, img):\n",
    "        gray = cv2.cvtColor(img, cv2.COLOR_BGR2GRAY)\n",
    "\n",
    "        lines = lib.detect_lines(gray.astype(np.uint8))\n",
    "        \n",
    "        angle = lib.angle_from_lines(lines, self.weighted, reduction=self.reduction)\n",
    "        \n",
    "        if self.modifier is not None:\n",
    "            angle = self.modifier(angle)\n",
    "            \n",
    "        return angle"
   ]
  },
  {
   "cell_type": "code",
   "execution_count": 54,
   "metadata": {},
   "outputs": [],
   "source": [
    "def maxabs(x):\n",
    "    mi = np.min(x)\n",
    "    ma = np.max(x)\n",
    "    \n",
    "    if abs(ma) > abs(mi):\n",
    "        return ma\n",
    "    \n",
    "    return mi\n",
    "\n",
    "def maxabs_len(x):\n",
    "    return maxabs(x) * len(x)\n",
    "\n",
    "def sigmoid(x):\n",
    "    s = 1 / (1 + np.exp(-x))\n",
    "    return s\n",
    "\n",
    "def norm_tanh(x):\n",
    "    return np.tanh(x) / np.tanh(1)\n",
    "\n",
    "def norm_sigmoid(x):\n",
    "    return (sigmoid(x) - 0.5) / sigmoid(1)\n",
    "\n",
    "def norm_sinh(x):\n",
    "    return np.sinh(x) / np.sinh(1)"
   ]
  },
  {
   "cell_type": "code",
   "execution_count": 55,
   "metadata": {},
   "outputs": [
    {
     "name": "stdout",
     "output_type": "stream",
     "text": [
      "score: (0.3168898526400779, 0.38182914533109247) weighted: False, reduction: sum, modifier: None\n",
      "score: (0.24817316107322943, 0.3954368298044627) weighted: False, reduction: sum, modifier: tanh\n",
      "score: (0.408415682104991, 0.4834883201735909) weighted: False, reduction: sum, modifier: sinh\n",
      "score: (0.33896979545996186, 0.39579148665766145) weighted: False, reduction: sum, modifier: norm_tanh\n",
      "score: (0.306799549751078, 0.3754243341193143) weighted: False, reduction: sum, modifier: norm_sinh\n",
      "score: (0.295906175453218, 0.46965528734646234) weighted: False, reduction: sum, modifier: norm_sigmoid\n",
      "score: (0.4189458215978799, 0.5482930275487115) weighted: False, reduction: maxabs, modifier: None\n",
      "score: (0.4197825421558001, 0.5490163106985478) weighted: False, reduction: maxabs, modifier: tanh\n",
      "score: (0.41859738683494546, 0.5480049718266391) weighted: False, reduction: maxabs, modifier: sinh\n",
      "score: (0.40179629989597665, 0.5362947031839181) weighted: False, reduction: maxabs, modifier: norm_tanh\n",
      "score: (0.4283303207018753, 0.5542630816284535) weighted: False, reduction: maxabs, modifier: norm_sinh\n",
      "score: (0.46844009166901096, 0.5765157930652187) weighted: False, reduction: maxabs, modifier: norm_sigmoid\n",
      "score: (0.754437874211516, 0.6333493417591755) weighted: False, reduction: maxabs_len, modifier: None\n",
      "score: (0.5171150078467037, 0.5699689817233186) weighted: False, reduction: maxabs_len, modifier: tanh\n",
      "score: (0.9983836226775387, 0.7997613387872633) weighted: False, reduction: maxabs_len, modifier: sinh\n",
      "score: (0.7546899995114914, 0.6322299090341759) weighted: False, reduction: maxabs_len, modifier: norm_tanh\n",
      "score: (0.7544748352702079, 0.6340579866228296) weighted: False, reduction: maxabs_len, modifier: norm_sinh\n",
      "score: (0.37062664375642446, 0.5272063453647455) weighted: False, reduction: maxabs_len, modifier: norm_sigmoid\n",
      "score: (0.31699097829917716, 0.3859765102045846) weighted: True, reduction: sum, modifier: None\n",
      "score: (0.24387121039213386, 0.3972915962616106) weighted: True, reduction: sum, modifier: tanh\n",
      "score: (0.41408805645363045, 0.4932284618738232) weighted: True, reduction: sum, modifier: sinh\n",
      "score: (0.33920821622849856, 0.4007316368489104) weighted: True, reduction: sum, modifier: norm_tanh\n",
      "score: (0.3067981238934059, 0.3791593862141015) weighted: True, reduction: sum, modifier: norm_sinh\n",
      "score: (0.2903151464229467, 0.46930281455768497) weighted: True, reduction: sum, modifier: norm_sigmoid\n",
      "score: (0.3628844092382343, 0.5142721901191757) weighted: True, reduction: maxabs, modifier: None\n",
      "score: (0.36497447320265497, 0.5160064848621903) weighted: True, reduction: maxabs, modifier: tanh\n",
      "score: (0.3619165005147471, 0.5134960261479812) weighted: True, reduction: maxabs, modifier: sinh\n",
      "score: (0.33426265877749045, 0.49465073561755357) weighted: True, reduction: maxabs, modifier: norm_tanh\n",
      "score: (0.3785124714172209, 0.5244493659475113) weighted: True, reduction: maxabs, modifier: norm_sinh\n",
      "score: (0.4467753988950951, 0.5644947386591329) weighted: True, reduction: maxabs, modifier: norm_sigmoid\n",
      "score: (0.5675434831200512, 0.5397105255172919) weighted: True, reduction: maxabs_len, modifier: None\n",
      "score: (0.37619329513123595, 0.4938343299136765) weighted: True, reduction: maxabs_len, modifier: tanh\n",
      "score: (0.7774662876500157, 0.7068225044804631) weighted: True, reduction: maxabs_len, modifier: sinh\n",
      "score: (0.5699141204238863, 0.5396646029659745) weighted: True, reduction: maxabs_len, modifier: norm_tanh\n",
      "score: (0.5664405466064503, 0.5398213038557858) weighted: True, reduction: maxabs_len, modifier: norm_sinh\n",
      "score: (0.3116010435081552, 0.49669509532831946) weighted: True, reduction: maxabs_len, modifier: norm_sigmoid\n"
     ]
    }
   ],
   "source": [
    "for weighted in [False, True]:\n",
    "    for reduction in [\n",
    "        np.sum,\n",
    "        maxabs,\n",
    "        maxabs_len,\n",
    "    ]:\n",
    "        for modifier in [\n",
    "            None,\n",
    "            np.tanh,\n",
    "            np.sinh,\n",
    "            norm_tanh,\n",
    "            norm_sinh,\n",
    "            norm_sigmoid,\n",
    "        ]:\n",
    "            score = ClusterifiedEstimator(weighted, reduction, modifier=modifier).score(Xc_val, yc_val)\n",
    "            print(f\"score: {score} weighted: {weighted}, reduction: {reduction.__name__}, modifier: {modifier and modifier.__name__}\")"
   ]
  },
  {
   "cell_type": "code",
   "execution_count": null,
   "metadata": {},
   "outputs": [],
   "source": [
    "plt.hist(yc_val)"
   ]
  },
  {
   "cell_type": "code",
   "execution_count": null,
   "metadata": {},
   "outputs": [],
   "source": [
    "def plot_distrib(weighted, reduction, modifier):\n",
    "    estimator = ClusterifiedEstimator(weighted, reduction, modifier=modifier)\n",
    "    plt.hist([estimator.predict_one(x) for x in Xc_val])\n",
    "    plt.title(f\"weighted: {weighted}, reduction: {reduction}\")"
   ]
  },
  {
   "cell_type": "code",
   "execution_count": null,
   "metadata": {},
   "outputs": [],
   "source": [
    "plot_distrib(True, np.sum, norm_tanh)"
   ]
  },
  {
   "cell_type": "code",
   "execution_count": null,
   "metadata": {},
   "outputs": [],
   "source": [
    "print(ClusterifiedEstimator(True, np.sum, lambda x: x if abs(x) > 0.25 else 0).score(Xc_val, yc_val))\n",
    "plot_distrib(False, np.sum, lambda x: x if abs(x) > 0.25 else 0)"
   ]
  },
  {
   "cell_type": "code",
   "execution_count": 15,
   "metadata": {},
   "outputs": [
    {
     "data": {
      "image/png": "[encoded data removed]",
      "text/plain": [
       "<Figure size 432x288 with 1 Axes>"
      ]
     },
     "metadata": {
      "needs_background": "light"
     },
     "output_type": "display_data"
    }
   ],
   "source": [
    "plot_distrib(False, maxabs)"
   ]
  },
  {
   "cell_type": "code",
   "execution_count": null,
   "metadata": {},
   "outputs": [],
   "source": []
  }
 ],
 "metadata": {
  "kernelspec": {
   "display_name": "Python 3",
   "language": "python",
   "name": "python3"
  },
  "language_info": {
   "codemirror_mode": {
    "name": "ipython",
    "version": 3
   },
   "file_extension": ".py",
   "mimetype": "text/x-python",
   "name": "python",
   "nbconvert_exporter": "python",
   "pygments_lexer": "ipython3",
   "version": "3.7.4"
  }
 },
 "nbformat": 4,
 "nbformat_minor": 4
}
