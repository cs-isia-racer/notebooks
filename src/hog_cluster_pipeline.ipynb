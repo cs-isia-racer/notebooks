{
 "cells": [
  {
   "cell_type": "code",
   "execution_count": 21,
   "metadata": {},
   "outputs": [],
   "source": [
    "import lib\n",
    "import numpy as np\n",
    "import matplotlib.pyplot as plt"
   ]
  },
  {
   "cell_type": "code",
   "execution_count": 22,
   "metadata": {},
   "outputs": [],
   "source": [
    "from sklearn.model_selection import train_test_split\n",
    "\n",
    "Xc_train, yc_train, Xc_test, yc_test = lib.load_dataset(\"../dataset_clusterified\")\n",
    "Xc_train, Xc_val, yc_train, yc_val = train_test_split(Xc_train, yc_train, test_size=0.2, random_state=42)"
   ]
  },
  {
   "cell_type": "code",
   "execution_count": 23,
   "metadata": {},
   "outputs": [
    {
     "data": {
      "text/plain": [
       "<matplotlib.image.AxesImage at 0x7fcf662c4dd0>"
      ]
     },
     "execution_count": 23,
     "metadata": {},
     "output_type": "execute_result"
    },
    {
     "data": {
      "image/png": "[encoded data removed]",
      "text/plain": [
       "<Figure size 432x288 with 1 Axes>"
      ]
     },
     "metadata": {
      "needs_background": "light"
     },
     "output_type": "display_data"
    }
   ],
   "source": [
    "plt.imshow(Xc_val[0])"
   ]
  },
  {
   "cell_type": "code",
   "execution_count": 34,
   "metadata": {},
   "outputs": [],
   "source": [
    "import cv2\n",
    "from skimage.feature import hog\n",
    "from xgboost import XGBRegressor\n",
    "\n",
    "class HoGClusterEstimator(lib.Estimator):\n",
    "    def __init__(\n",
    "        self,\n",
    "        orientations=8,\n",
    "        ppc=16,\n",
    "        cpb=1,\n",
    "        classifier=XGBRegressor\n",
    "    ):\n",
    "        self.orientations = orientations\n",
    "        self.ppc = ppc\n",
    "        self.cpb = cpb\n",
    "        self.classifier = classifier()\n",
    "        \n",
    "    def fit(self, X, y):\n",
    "        feats = [ self._hog(x) for x in X]\n",
    "        self.classifier.fit(feats, y)\n",
    "\n",
    "    def _hog(self, img):\n",
    "        return hog(\n",
    "            img,\n",
    "            orientations=self.orientations, \n",
    "            pixels_per_cell=(self.ppc, self.ppc),\n",
    "            cells_per_block=(self.cpb, self.cpb),\n",
    "        )\n",
    "        \n",
    "    def predict_one(self, img):\n",
    "        img = cv2.cvtColor(img, cv2.COLOR_BGR2GRAY)\n",
    "        gradients = self._hog(img)\n",
    "        return self.classifier.predict([gradients])[0]"
   ]
  },
  {
   "cell_type": "code",
   "execution_count": 35,
   "metadata": {},
   "outputs": [
    {
     "name": "stdout",
     "output_type": "stream",
     "text": [
      "[13:15:11] WARNING: /workspace/src/objective/regression_obj.cu:152: reg:linear is now deprecated in favor of reg:squarederror.\n",
      "score: (0.10309505240576423, 0.23895277200577833), took: 73.70130157470703 seconds, o: 4, ppc: 16, cpb: 1\n",
      "[13:16:23] WARNING: /workspace/src/objective/regression_obj.cu:152: reg:linear is now deprecated in favor of reg:squarederror.\n",
      "score: (0.09928644129226988, 0.23340757713529914), took: 89.18835139274597 seconds, o: 4, ppc: 16, cpb: 2\n",
      "[13:17:52] WARNING: /workspace/src/objective/regression_obj.cu:152: reg:linear is now deprecated in favor of reg:squarederror.\n",
      "score: (0.09126505995336197, 0.22155155704362794), took: 110.11738657951355 seconds, o: 4, ppc: 16, cpb: 3\n",
      "[13:19:32] WARNING: /workspace/src/objective/regression_obj.cu:152: reg:linear is now deprecated in favor of reg:squarederror.\n",
      "score: (0.09229162151544344, 0.2273283656791596), took: 56.5496506690979 seconds, o: 4, ppc: 24, cpb: 1\n",
      "[13:20:28] WARNING: /workspace/src/objective/regression_obj.cu:152: reg:linear is now deprecated in favor of reg:squarederror.\n",
      "score: (0.09013906318918509, 0.22067860977122167), took: 64.238205909729 seconds, o: 4, ppc: 24, cpb: 2\n",
      "[13:21:34] WARNING: /workspace/src/objective/regression_obj.cu:152: reg:linear is now deprecated in favor of reg:squarederror.\n",
      "score: (0.08877368799109969, 0.22069002413827274), took: 75.50445032119751 seconds, o: 4, ppc: 24, cpb: 3\n",
      "[13:22:42] WARNING: /workspace/src/objective/regression_obj.cu:152: reg:linear is now deprecated in favor of reg:squarederror.\n",
      "score: (0.09328363304067869, 0.2254770930508988), took: 47.81051588058472 seconds, o: 4, ppc: 32, cpb: 1\n",
      "[13:23:29] WARNING: /workspace/src/objective/regression_obj.cu:152: reg:linear is now deprecated in favor of reg:squarederror.\n",
      "score: (0.08113219999296152, 0.2111021706442512), took: 52.69353699684143 seconds, o: 4, ppc: 32, cpb: 2\n",
      "[13:24:23] WARNING: /workspace/src/objective/regression_obj.cu:152: reg:linear is now deprecated in favor of reg:squarederror.\n",
      "score: (0.08427712145578752, 0.21723873752963258), took: 61.251216411590576 seconds, o: 4, ppc: 32, cpb: 3\n",
      "[13:25:22] WARNING: /workspace/src/objective/regression_obj.cu:152: reg:linear is now deprecated in favor of reg:squarederror.\n",
      "score: (0.11251838479577243, 0.2539333464008091), took: 44.92660641670227 seconds, o: 4, ppc: 64, cpb: 1\n",
      "[13:26:09] WARNING: /workspace/src/objective/regression_obj.cu:152: reg:linear is now deprecated in favor of reg:squarederror.\n",
      "score: (0.10225447562392134, 0.23669289497905074), took: 46.23311185836792 seconds, o: 4, ppc: 64, cpb: 2\n",
      "[13:26:48] WARNING: /workspace/src/objective/regression_obj.cu:152: reg:linear is now deprecated in favor of reg:squarederror.\n",
      "score: (0.10898034126649317, 0.24448051703467544), took: 37.4101505279541 seconds, o: 4, ppc: 64, cpb: 3\n",
      "[13:27:51] WARNING: /workspace/src/objective/regression_obj.cu:152: reg:linear is now deprecated in favor of reg:squarederror.\n",
      "score: (0.09678243208342546, 0.236356300257809), took: 78.96431350708008 seconds, o: 8, ppc: 16, cpb: 1\n",
      "[13:29:12] WARNING: /workspace/src/objective/regression_obj.cu:152: reg:linear is now deprecated in favor of reg:squarederror.\n",
      "score: (0.09582674983232038, 0.2325354359349046), took: 107.03893208503723 seconds, o: 8, ppc: 16, cpb: 2\n",
      "[13:30:53] WARNING: /workspace/src/objective/regression_obj.cu:152: reg:linear is now deprecated in favor of reg:squarederror.\n",
      "score: (0.0946151962616543, 0.22673986823724307), took: 138.21557760238647 seconds, o: 8, ppc: 16, cpb: 3\n",
      "[13:33:00] WARNING: /workspace/src/objective/regression_obj.cu:152: reg:linear is now deprecated in favor of reg:squarederror.\n",
      "score: (0.09393762592391768, 0.2315386798143904), took: 56.437175273895264 seconds, o: 8, ppc: 24, cpb: 1\n",
      "[13:33:56] WARNING: /workspace/src/objective/regression_obj.cu:152: reg:linear is now deprecated in favor of reg:squarederror.\n",
      "score: (0.08744258370550971, 0.22220628114170726), took: 69.66108512878418 seconds, o: 8, ppc: 24, cpb: 2\n",
      "[13:35:05] WARNING: /workspace/src/objective/regression_obj.cu:152: reg:linear is now deprecated in favor of reg:squarederror.\n",
      "score: (0.08831561560993165, 0.22273980160597348), took: 88.07789850234985 seconds, o: 8, ppc: 24, cpb: 3\n",
      "[13:36:32] WARNING: /workspace/src/objective/regression_obj.cu:152: reg:linear is now deprecated in favor of reg:squarederror.\n",
      "score: (0.08929225024708634, 0.22395133157614255), took: 52.117135524749756 seconds, o: 8, ppc: 32, cpb: 1\n",
      "[13:37:24] WARNING: /workspace/src/objective/regression_obj.cu:152: reg:linear is now deprecated in favor of reg:squarederror.\n",
      "score: (0.07863214403286656, 0.20677014654603282), took: 65.16240501403809 seconds, o: 8, ppc: 32, cpb: 2\n",
      "[13:38:32] WARNING: /workspace/src/objective/regression_obj.cu:152: reg:linear is now deprecated in favor of reg:squarederror.\n",
      "score: (0.07698432070041047, 0.20818044433366192), took: 76.41278195381165 seconds, o: 8, ppc: 32, cpb: 3\n",
      "[13:39:40] WARNING: /workspace/src/objective/regression_obj.cu:152: reg:linear is now deprecated in favor of reg:squarederror.\n",
      "score: (0.10053473295974752, 0.24131125929945202), took: 41.92317867279053 seconds, o: 8, ppc: 64, cpb: 1\n",
      "[13:40:21] WARNING: /workspace/src/objective/regression_obj.cu:152: reg:linear is now deprecated in favor of reg:squarederror.\n",
      "score: (0.0949489809171633, 0.23071416497489117), took: 42.908607721328735 seconds, o: 8, ppc: 64, cpb: 2\n",
      "[13:41:08] WARNING: /workspace/src/objective/regression_obj.cu:152: reg:linear is now deprecated in favor of reg:squarederror.\n",
      "score: (0.0920956584881116, 0.22646413519816905), took: 44.745150089263916 seconds, o: 8, ppc: 64, cpb: 3\n",
      "[15:01:52] WARNING: /workspace/src/objective/regression_obj.cu:152: reg:linear is now deprecated in favor of reg:squarederror.\n",
      "score: (0.10528016202304974, 0.2443939127722945), took: 4866.906781673431 seconds, o: 16, ppc: 16, cpb: 1\n",
      "[15:03:23] WARNING: /workspace/src/objective/regression_obj.cu:152: reg:linear is now deprecated in favor of reg:squarederror.\n",
      "score: (0.1003579101573631, 0.23840084290556174), took: 138.0314953327179 seconds, o: 16, ppc: 16, cpb: 2\n",
      "[15:05:42] WARNING: /workspace/src/objective/regression_obj.cu:152: reg:linear is now deprecated in favor of reg:squarederror.\n",
      "score: (0.09766298994534751, 0.2346486569032752), took: 204.15288829803467 seconds, o: 16, ppc: 16, cpb: 3\n",
      "[15:08:58] WARNING: /workspace/src/objective/regression_obj.cu:152: reg:linear is now deprecated in favor of reg:squarederror.\n",
      "score: (0.09184435725680169, 0.23040762033612505), took: 74.28498244285583 seconds, o: 16, ppc: 24, cpb: 1\n",
      "[15:10:14] WARNING: /workspace/src/objective/regression_obj.cu:152: reg:linear is now deprecated in favor of reg:squarederror.\n",
      "score: (0.09002327098502162, 0.22485909019142322), took: 103.6178069114685 seconds, o: 16, ppc: 24, cpb: 2\n",
      "[15:11:55] WARNING: /workspace/src/objective/regression_obj.cu:152: reg:linear is now deprecated in favor of reg:squarederror.\n",
      "score: (0.08750046758880177, 0.22148860256609845), took: 131.87865257263184 seconds, o: 16, ppc: 24, cpb: 3\n",
      "[15:14:07] WARNING: /workspace/src/objective/regression_obj.cu:152: reg:linear is now deprecated in favor of reg:squarederror.\n",
      "score: (0.09137134591388939, 0.2261520264528837), took: 69.55701208114624 seconds, o: 16, ppc: 32, cpb: 1\n",
      "[15:15:10] WARNING: /workspace/src/objective/regression_obj.cu:152: reg:linear is now deprecated in favor of reg:squarederror.\n",
      "score: (0.08007897368472926, 0.2084406519272322), took: 87.0835907459259 seconds, o: 16, ppc: 32, cpb: 2\n",
      "[15:16:40] WARNING: /workspace/src/objective/regression_obj.cu:152: reg:linear is now deprecated in favor of reg:squarederror.\n",
      "score: (0.08116089800509914, 0.21499388424796811), took: 105.64072346687317 seconds, o: 16, ppc: 32, cpb: 3\n",
      "[15:18:16] WARNING: /workspace/src/objective/regression_obj.cu:152: reg:linear is now deprecated in favor of reg:squarederror.\n",
      "score: (0.09607155149479, 0.23681094151256918), took: 49.784125566482544 seconds, o: 16, ppc: 64, cpb: 1\n",
      "[15:19:04] WARNING: /workspace/src/objective/regression_obj.cu:152: reg:linear is now deprecated in favor of reg:squarederror.\n",
      "score: (0.09216090013417996, 0.22522740089970916), took: 50.958720445632935 seconds, o: 16, ppc: 64, cpb: 2\n",
      "[15:19:54] WARNING: /workspace/src/objective/regression_obj.cu:152: reg:linear is now deprecated in favor of reg:squarederror.\n",
      "score: (0.09471434198337589, 0.22793387945846463), took: 46.92034387588501 seconds, o: 16, ppc: 64, cpb: 3\n"
     ]
    }
   ],
   "source": [
    "import time\n",
    "\n",
    "for orientations in [\n",
    "    4,\n",
    "    8,\n",
    "    16\n",
    "]:\n",
    "    for ppc in [16, 24, 32, 64]:\n",
    "        for cpb in [1, 2, 3]:\n",
    "            s = time.time()\n",
    "            estimator = HoGClusterEstimator(orientations=orientations, ppc=ppc, cpb=cpb)\n",
    "            estimator.fit(Xc_train, yc_train)\n",
    "            \n",
    "            score = estimator.score(Xc_val, yc_val)\n",
    "            \n",
    "            print(f\"score: {score}, took: {time.time() -s} seconds, o: {orientations}, ppc: {ppc}, cpb: {cpb}\")"
   ]
  },
  {
   "cell_type": "code",
   "execution_count": 18,
   "metadata": {},
   "outputs": [],
   "source": [
    "yc_pred = [estimator.predict_one(x) for x in Xc_val]"
   ]
  },
  {
   "cell_type": "code",
   "execution_count": 19,
   "metadata": {},
   "outputs": [
    {
     "data": {
      "text/plain": [
       "(array([ 81.,  98.,  75., 147., 149.,  94.,  67.,  77.,  98.,  36.]),\n",
       " array([-1.0542804 , -0.8306734 , -0.60706633, -0.38345933, -0.1598523 ,\n",
       "         0.06375474,  0.28736177,  0.5109688 ,  0.7345758 ,  0.9581829 ,\n",
       "         1.1817899 ], dtype=float32),\n",
       " <a list of 10 Patch objects>)"
      ]
     },
     "execution_count": 19,
     "metadata": {},
     "output_type": "execute_result"
    },
    {
     "data": {
      "image/png": "[encoded data removed]",
      "text/plain": [
       "<Figure size 432x288 with 1 Axes>"
      ]
     },
     "metadata": {
      "needs_background": "light"
     },
     "output_type": "display_data"
    }
   ],
   "source": [
    "plt.hist(yc_pred)"
   ]
  },
  {
   "cell_type": "code",
   "execution_count": 20,
   "metadata": {},
   "outputs": [
    {
     "data": {
      "text/plain": [
       "(array([182.,  71.,  52.,  34., 140., 124.,  57.,  27.,  42., 193.]),\n",
       " array([-1. , -0.8, -0.6, -0.4, -0.2,  0. ,  0.2,  0.4,  0.6,  0.8,  1. ]),\n",
       " <a list of 10 Patch objects>)"
      ]
     },
     "execution_count": 20,
     "metadata": {},
     "output_type": "execute_result"
    },
    {
     "data": {
      "image/png": "[encoded data removed]",
      "text/plain": [
       "<Figure size 432x288 with 1 Axes>"
      ]
     },
     "metadata": {
      "needs_background": "light"
     },
     "output_type": "display_data"
    }
   ],
   "source": [
    "plt.hist(yc_val)"
   ]
  },
  {
   "cell_type": "code",
   "execution_count": null,
   "metadata": {},
   "outputs": [],
   "source": []
  }
 ],
 "metadata": {
  "kernelspec": {
   "display_name": "Python 3",
   "language": "python",
   "name": "python3"
  },
  "language_info": {
   "codemirror_mode": {
    "name": "ipython",
    "version": 3
   },
   "file_extension": ".py",
   "mimetype": "text/x-python",
   "name": "python",
   "nbconvert_exporter": "python",
   "pygments_lexer": "ipython3",
   "version": "3.7.4"
  }
 },
 "nbformat": 4,
 "nbformat_minor": 4
}
